{
 "cells": [
  {
   "cell_type": "code",
   "execution_count": 3,
   "id": "e6382552",
   "metadata": {},
   "outputs": [],
   "source": [
    "from langgraph.graph import StateGraph, END\n",
    "from langgraph.checkpoint.memory import InMemorySaver\n",
    "from typing import TypedDict\n",
    "import time"
   ]
  },
  {
   "cell_type": "code",
   "execution_count": 4,
   "id": "148da99f",
   "metadata": {},
   "outputs": [],
   "source": [
    "class CrashState(TypedDict):\n",
    "    input:str\n",
    "    step1:str\n",
    "    step2:str"
   ]
  },
  {
   "cell_type": "code",
   "execution_count": 5,
   "id": "c18a4f32",
   "metadata": {},
   "outputs": [],
   "source": [
    "def step_1(state: CrashState)->CrashState:\n",
    "    print(\"step 1 executed\")\n",
    "    return{\"step1\":\"done\",\"input\":state[\"input\"]}\n",
    "\n",
    "def step_2(state: CrashState)->CrashState:\n",
    "    print(\"step 2 hanging... now manually interrupt from the notebook toolbar(STOP button)\")\n",
    "    time.sleep(1000)\n",
    "    return{\"step1\":\"done\",\"input\":state[\"input\"]}\n",
    "\n",
    "def step_3(state: CrashState)->CrashState:\n",
    "    print(\"step 3 executed\")\n",
    "    return{\"done\": True}\n",
    "\n"
   ]
  },
  {
   "cell_type": "code",
   "execution_count": 6,
   "id": "b77b4f6a",
   "metadata": {},
   "outputs": [],
   "source": [
    "# 3. Build the graph\n",
    "builder = StateGraph(CrashState)\n",
    "builder.add_node(\"step_1\", step_1)\n",
    "builder.add_node(\"step_2\", step_2)\n",
    "builder.add_node(\"step_3\", step_3)\n",
    "\n",
    "builder.set_entry_point(\"step_1\")\n",
    "builder.add_edge(\"step_1\", \"step_2\")\n",
    "builder.add_edge(\"step_2\", \"step_3\")\n",
    "builder.add_edge(\"step_3\", END)\n",
    "\n",
    "checkpointer = InMemorySaver()\n",
    "graph = builder.compile(checkpointer=checkpointer)"
   ]
  },
  {
   "cell_type": "code",
   "execution_count": null,
   "id": "560a5e0d",
   "metadata": {},
   "outputs": [],
   "source": [
    "# try:\n",
    "#     print(\"▶️ Running graph: Please manually interrupt during Step 2...\")\n",
    "#     graph.invoke({\"input\":\"start\"}, config={\"configurable\": {\"thread_id\":'thread-1'}})\n",
    "# except KeyboardInterrupt:\n",
    "#     print(\"❌ Kernel manually interrupted (crash simulated).\")\n"
   ]
  },
  {
   "cell_type": "code",
   "execution_count": null,
   "id": "7ca33a22",
   "metadata": {},
   "outputs": [],
   "source": []
  }
 ],
 "metadata": {
  "kernelspec": {
   "display_name": "myenv",
   "language": "python",
   "name": "python3"
  },
  "language_info": {
   "codemirror_mode": {
    "name": "ipython",
    "version": 3
   },
   "file_extension": ".py",
   "mimetype": "text/x-python",
   "name": "python",
   "nbconvert_exporter": "python",
   "pygments_lexer": "ipython3",
   "version": "3.12.4"
  }
 },
 "nbformat": 4,
 "nbformat_minor": 5
}
