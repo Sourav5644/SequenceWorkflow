{
 "cells": [
  {
   "cell_type": "code",
   "execution_count": 24,
   "id": "8fca614c",
   "metadata": {},
   "outputs": [],
   "source": [
    "from langgraph.graph import StateGraph,START,END\n",
    "import google.generativeai as genai \n",
    "from typing import TypedDict\n",
    "from dotenv import load_dotenv"
   ]
  },
  {
   "cell_type": "code",
   "execution_count": 25,
   "id": "91b71c27",
   "metadata": {},
   "outputs": [],
   "source": [
    "load_dotenv()\n",
    "import os\n",
    "genai.configure(api_key=os.getenv(\"API_KEY\"))"
   ]
  },
  {
   "cell_type": "code",
   "execution_count": 26,
   "id": "a38522b7",
   "metadata": {},
   "outputs": [],
   "source": [
    "model=genai.GenerativeModel('gemini-1.5-flash-latest')"
   ]
  },
  {
   "cell_type": "code",
   "execution_count": 27,
   "id": "328428b3",
   "metadata": {},
   "outputs": [],
   "source": [
    "#create state\n",
    "class llmstate(TypedDict):\n",
    "    question: str\n",
    "    answer: str"
   ]
  },
  {
   "cell_type": "code",
   "execution_count": 28,
   "id": "9146ecc8",
   "metadata": {},
   "outputs": [],
   "source": [
    "def llm_qa(state: llmstate) -> llmstate:\n",
    "    # extract question from state\n",
    "    question = state['question']\n",
    "    # form a prompt\n",
    "    prompt = f'answer the following question {question}'\n",
    "    # ask that question to the llm\n",
    "    answer = model.generate_content(prompt).text\n",
    "    # update the answer in the state\n",
    "    state['answer'] = answer\n",
    "    return state"
   ]
  },
  {
   "cell_type": "code",
   "execution_count": 29,
   "id": "cfe27a2b",
   "metadata": {},
   "outputs": [],
   "source": [
    "#create the edge\n",
    "graph=StateGraph(llmstate) \n",
    "#add nodes\n",
    "graph.add_node('llm_qa', llm_qa)\n",
    "#add edge\n",
    "graph.add_edge(START,'llm_qa')\n",
    "graph.add_edge('llm_qa',END)\n",
    "#compile\n",
    "workflow=graph.compile()"
   ]
  },
  {
   "cell_type": "code",
   "execution_count": 30,
   "id": "45ca534f",
   "metadata": {},
   "outputs": [
    {
     "name": "stdout",
     "output_type": "stream",
     "text": [
      "The distance between the Earth and the Moon is not constant because the Moon's orbit is elliptical.  However, the average distance is approximately **238,855 miles (384,400 kilometers)**.\n",
      "\n"
     ]
    }
   ],
   "source": [
    "intial_state = {'question': 'How far is moon from the earth?'}\n",
    "\n",
    "final_state = workflow.invoke(intial_state)\n",
    "\n",
    "print(final_state['answer'])"
   ]
  },
  {
   "cell_type": "code",
   "execution_count": null,
   "id": "c06614cd",
   "metadata": {},
   "outputs": [],
   "source": []
  }
 ],
 "metadata": {
  "kernelspec": {
   "display_name": "myenv",
   "language": "python",
   "name": "python3"
  },
  "language_info": {
   "codemirror_mode": {
    "name": "ipython",
    "version": 3
   },
   "file_extension": ".py",
   "mimetype": "text/x-python",
   "name": "python",
   "nbconvert_exporter": "python",
   "pygments_lexer": "ipython3",
   "version": "3.12.4"
  }
 },
 "nbformat": 4,
 "nbformat_minor": 5
}
