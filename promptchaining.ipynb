{
 "cells": [
  {
   "cell_type": "code",
   "execution_count": 17,
   "id": "f3bb2ab5",
   "metadata": {},
   "outputs": [],
   "source": [
    "from langgraph.graph import StateGraph, START, END\n",
    "from typing import TypedDict\n",
    "from dotenv import load_dotenv\n",
    "import google.generativeai as genai "
   ]
  },
  {
   "cell_type": "code",
   "execution_count": 18,
   "id": "994607c8",
   "metadata": {},
   "outputs": [],
   "source": [
    "load_dotenv()\n",
    "model=genai.GenerativeModel('gemini-1.5-flash-latest')\n",
    "import os\n",
    "genai.configure(api_key=os.getenv(\"API_KEY\"))"
   ]
  },
  {
   "cell_type": "code",
   "execution_count": 19,
   "id": "d13eb480",
   "metadata": {},
   "outputs": [],
   "source": [
    "class blogstate(TypedDict):\n",
    "    title:str\n",
    "    outline:str\n",
    "    content:str"
   ]
  },
  {
   "cell_type": "code",
   "execution_count": 20,
   "id": "ad7743b0",
   "metadata": {},
   "outputs": [],
   "source": [
    "def create_outline(state: blogstate)->blogstate:\n",
    "    #fetch title\n",
    "    title=state['title']\n",
    "    #call llm gen outline\n",
    "    prompt=f'Generate a detailed outline for a blog on the topic-{title}'\n",
    "    outline=content = model.generate_content(prompt).text\n",
    "    #update state\n",
    "    state['outline']=outline\n",
    "    return state"
   ]
  },
  {
   "cell_type": "code",
   "execution_count": 21,
   "id": "c9401ba4",
   "metadata": {},
   "outputs": [],
   "source": [
    "def create_blog(state: blogstate)->blogstate:\n",
    "    title=state['title']\n",
    "    outline=state['outline']\n",
    "    prompt=f'Write a detailed blog on the title-{title} using the following outline \\n {outline}'\n",
    "    content = model.generate_content(prompt).text\n",
    "    state['content']=content\n",
    "    return state\n",
    "\n"
   ]
  },
  {
   "cell_type": "code",
   "execution_count": 22,
   "id": "a15959fc",
   "metadata": {},
   "outputs": [],
   "source": [
    "graph=StateGraph(blogstate)\n",
    "#nodes\n",
    "graph.add_node('create_outline',create_outline)\n",
    "graph.add_node('create_blog',create_blog)\n",
    "#edges\n",
    "graph.add_edge(START,'create_outline')\n",
    "graph.add_edge('create_outline','create_blog')\n",
    "graph.add_edge('create_blog',END)\n",
    "\n",
    "workflow=graph.compile()"
   ]
  },
  {
   "cell_type": "code",
   "execution_count": 23,
   "id": "a396678e",
   "metadata": {},
   "outputs": [
    {
     "name": "stdout",
     "output_type": "stream",
     "text": [
      "{'title': 'Rise of AI in India', 'outline': \"## Blog Outline: The Rise of AI in India - A Technological Tide\\n\\n**I. Introduction (approx. 150 words)**\\n\\n* **Hook:** Start with a compelling statistic or anecdote showcasing AI's growing presence in India (e.g., investment figures, successful AI startups, a specific application impacting daily life).\\n* **Brief definition of AI:**  Clearly define Artificial Intelligence in a concise and accessible manner, avoiding jargon.\\n* **Thesis statement:**  State the blog's central argument – that AI is rapidly rising in India, driven by specific factors, with significant implications for the economy and society.\\n* **Roadmap:** Briefly outline the topics to be covered in the blog.\\n\\n**II. Drivers of AI Growth in India (approx. 300 words)**\\n\\n* **A. Government Initiatives:**\\n    * Discuss government policies and programs promoting AI (e.g., National AI Strategy, Digital India program).\\n    * Highlight funding initiatives and support for AI research and development.\\n    * Mention any regulatory frameworks being developed for AI.\\n* **B. Growing Talent Pool:**\\n    * Analyze the expanding number of skilled AI professionals in India (engineers, data scientists, researchers).\\n    * Discuss the role of educational institutions in fostering AI talent.\\n    * Mention the increasing popularity of AI-related courses and bootcamps.\\n* **C. Abundant Data:**\\n    * Highlight India's vast population and the resulting massive data generation.\\n    * Discuss the potential of this data for training and improving AI models.\\n    * Mention challenges related to data privacy and security.\\n* **D. Increasing Investments:**\\n    * Analyze the influx of domestic and foreign investments in Indian AI startups and companies.\\n    * Mention examples of successful AI ventures and their impact.\\n    * Discuss the role of venture capital and private equity in fueling AI growth.\\n\\n**III. Key Applications of AI in India (approx. 300 words)**\\n\\n* **A. Agriculture:**\\n    * Discuss the use of AI for precision farming, crop monitoring, and yield prediction.\\n    * Mention specific examples of AI-powered solutions in the agricultural sector.\\n* **B. Healthcare:**\\n    * Describe the application of AI in disease diagnosis, drug discovery, and personalized medicine.\\n    * Highlight AI's role in improving access to healthcare in rural areas.\\n* **C. Finance:**\\n    * Discuss the use of AI in fraud detection, risk management, and algorithmic trading.\\n    * Mention the impact of AI on financial inclusion.\\n* **D. Other sectors (choose 1-2 relevant sectors):**\\n    * Examples: Transportation (autonomous vehicles), education (personalized learning), customer service (chatbots), etc.\\n    * Provide specific examples and impact in the chosen sector(s).\\n\\n\\n**IV. Challenges and Concerns (approx. 200 words)**\\n\\n* **A. Ethical Considerations:**\\n    * Discuss concerns about bias in AI algorithms, job displacement, and data privacy.\\n    * Mention the need for ethical guidelines and regulations for AI development.\\n* **B. Infrastructure Gaps:**\\n    * Highlight challenges related to internet access, computational power, and digital literacy.\\n    * Discuss the need for investments in infrastructure to support widespread AI adoption.\\n* **C. Skills Gap:**\\n    * Discuss the need for upskilling and reskilling initiatives to address the growing demand for AI professionals.\\n* **D. Regulatory Landscape:**\\n    * Discuss the need for clear and comprehensive regulations to govern the development and deployment of AI.\\n\\n\\n**V. Future Outlook and Conclusion (approx. 150 words)**\\n\\n* **Summarize the key findings of the blog.**\\n* **Project the future trajectory of AI in India.**\\n* **Discuss potential opportunities and challenges for the future.**\\n* **Concluding statement:** Offer a powerful statement reiterating the significance of AI's rise in India and its potential to transform the nation.\\n\\n**VI. Call to Action (approx. 50 words)**\\n\\n* Encourage readers to share their thoughts and opinions on the topic.\\n* Promote engagement through comments, social media sharing, or further reading.\\n\\n\\n**VII.  Supporting Visuals:**  Include relevant images, graphs, and charts throughout the blog to enhance readability and engagement.  Consider using infographics to visually represent data on investments, talent pool growth, or AI applications.\\n\\n\\nThis detailed outline provides a comprehensive structure for your blog. Remember to use clear and concise language, cite your sources, and maintain a consistent tone throughout.  Focus on making the information accessible to a broad audience, even those without a deep technical understanding of AI.\\n\", 'content': \"## The Rise of AI in India - A Technological Tide\\n\\n**I. Introduction**\\n\\nIndia's burgeoning tech scene is experiencing a dramatic surge, fueled by a powerful current: Artificial Intelligence.  Recent reports indicate a staggering $7.8 billion investment in Indian AI startups in 2022 alone, showcasing the undeniable momentum.  But what exactly *is* AI?  Simply put, Artificial Intelligence involves creating computer systems capable of performing tasks that typically require human intelligence, such as learning, problem-solving, and decision-making. This blog argues that AI is rapidly transforming India, driven by government initiatives, a burgeoning talent pool, abundant data, and significant investments. We'll explore its key applications across various sectors, examine associated challenges, and project its future trajectory in the Indian context.\\n\\n**II. Drivers of AI Growth in India**\\n\\nSeveral key factors are propelling India's AI revolution.  Firstly, the Indian government has actively championed AI through initiatives like the National AI Strategy, aiming to position India as a global AI leader.  The Digital India program, focused on digital literacy and infrastructure, further strengthens this foundation.  Significant funding is being allocated to research and development, fostering innovation within the AI sector.  Simultaneously, regulatory frameworks are slowly emerging to navigate the ethical and practical implications of AI deployment.\\n\\nSecondly, India boasts a rapidly expanding pool of skilled AI professionals.  Top-tier engineering colleges and universities are churning out graduates specializing in data science, machine learning, and AI, while numerous bootcamps and online courses cater to the rising demand for skilled professionals. This readily available talent is a crucial ingredient in the nation’s AI recipe.\\n\\nThirdly, India's massive population generates an unparalleled amount of data – a crucial fuel for AI.  This data, encompassing everything from mobile usage to financial transactions, offers immense potential for training and improving AI models.  However, this abundance also presents challenges related to data privacy and security, requiring robust regulatory measures.\\n\\nFinally, substantial investments, both domestic and foreign, are flooding the Indian AI landscape.  Venture capitalists and private equity firms are actively funding promising AI startups, leading to the emergence of successful ventures impacting various sectors.  This financial injection is crucial for sustaining the momentum of AI growth in India.\\n\\n\\n**III. Key Applications of AI in India**\\n\\nAI is permeating various sectors of the Indian economy, revolutionizing existing practices and creating new opportunities.\\n\\n**A. Agriculture:**  AI is transforming agriculture through precision farming techniques.  AI-powered drones and sensors monitor crop health, identify disease outbreaks, and optimize irrigation, leading to improved yields and reduced resource waste.  Companies are developing AI-driven solutions for predicting crop yields based on weather patterns and soil conditions.\\n\\n**B. Healthcare:** AI is revolutionizing healthcare delivery in India.  AI algorithms are being used for early disease diagnosis, particularly in areas with limited access to specialists.  AI is also assisting in drug discovery and personalized medicine, tailoring treatments to individual patient needs.  Telemedicine platforms, powered by AI-driven chatbots, are expanding access to healthcare in rural and underserved regions.\\n\\n**C. Finance:** The financial sector is leveraging AI for fraud detection, risk assessment, and algorithmic trading.  AI-powered systems analyze vast datasets to identify suspicious transactions and minimize financial losses.  AI is also contributing to financial inclusion by enabling access to credit and other financial services for underserved populations.\\n\\n**D. Customer Service:** AI-powered chatbots are transforming customer service interactions across various industries.  These chatbots provide instant support, answer frequently asked questions, and resolve simple issues, freeing up human agents to handle more complex tasks. This results in increased efficiency and improved customer satisfaction.\\n\\n\\n**IV. Challenges and Concerns**\\n\\nDespite the impressive progress, several challenges hinder the full potential of AI in India.\\n\\n**A. Ethical Considerations:**  Bias in AI algorithms, job displacement due to automation, and concerns over data privacy are significant ethical considerations.  Establishing robust ethical guidelines and regulatory frameworks is crucial to mitigate these risks and ensure responsible AI development.\\n\\n**B. Infrastructure Gaps:**  Uneven internet access, limited computational power in certain regions, and a digital literacy gap pose significant challenges.  Investment in robust digital infrastructure is vital for widespread AI adoption.\\n\\n**C. Skills Gap:** The demand for skilled AI professionals far outpaces the current supply.  Addressing this skills gap requires substantial investment in education and training programs to upskill and reskill the workforce.\\n\\n**D. Regulatory Landscape:** A clear and comprehensive regulatory landscape is essential to guide AI development and deployment responsibly.  This includes addressing issues of data privacy, algorithmic transparency, and accountability.\\n\\n\\n**V. Future Outlook and Conclusion**\\n\\nIndia's AI journey is still in its early stages, yet its potential is immense.  Continued investment in research and development, infrastructure, and education will be crucial for realizing this potential.  While challenges related to ethics, infrastructure, and skills need to be addressed proactively, the future trajectory points towards a significant transformation of various sectors.  India's unique strengths—a large talent pool, abundant data, and government support—position it to become a global AI leader.  The rise of AI in India is not merely a technological advancement; it's a transformative force with the potential to reshape the nation's economy and society for the better.\\n\\n\\n**VI. Call to Action**\\n\\nWhat are your thoughts on the rise of AI in India? Share your opinions and insights in the comments below!  Let's discuss the opportunities and challenges together.  Join the conversation on social media using #AIinIndia.\\n\\n\\n**(Include relevant images, graphs, and charts throughout the blog to enhance readability and engagement.)**\\n\"}\n"
     ]
    }
   ],
   "source": [
    "intial_state={'title':'Rise of AI in India'}\n",
    "final_state=workflow.invoke(intial_state)\n",
    "print(final_state)"
   ]
  },
  {
   "cell_type": "code",
   "execution_count": 25,
   "id": "1163c1fc",
   "metadata": {},
   "outputs": [
    {
     "name": "stdout",
     "output_type": "stream",
     "text": [
      "## Blog Outline: The Rise of AI in India - A Technological Tide\n",
      "\n",
      "**I. Introduction (approx. 150 words)**\n",
      "\n",
      "* **Hook:** Start with a compelling statistic or anecdote showcasing AI's growing presence in India (e.g., investment figures, successful AI startups, a specific application impacting daily life).\n",
      "* **Brief definition of AI:**  Clearly define Artificial Intelligence in a concise and accessible manner, avoiding jargon.\n",
      "* **Thesis statement:**  State the blog's central argument – that AI is rapidly rising in India, driven by specific factors, with significant implications for the economy and society.\n",
      "* **Roadmap:** Briefly outline the topics to be covered in the blog.\n",
      "\n",
      "**II. Drivers of AI Growth in India (approx. 300 words)**\n",
      "\n",
      "* **A. Government Initiatives:**\n",
      "    * Discuss government policies and programs promoting AI (e.g., National AI Strategy, Digital India program).\n",
      "    * Highlight funding initiatives and support for AI research and development.\n",
      "    * Mention any regulatory frameworks being developed for AI.\n",
      "* **B. Growing Talent Pool:**\n",
      "    * Analyze the expanding number of skilled AI professionals in India (engineers, data scientists, researchers).\n",
      "    * Discuss the role of educational institutions in fostering AI talent.\n",
      "    * Mention the increasing popularity of AI-related courses and bootcamps.\n",
      "* **C. Abundant Data:**\n",
      "    * Highlight India's vast population and the resulting massive data generation.\n",
      "    * Discuss the potential of this data for training and improving AI models.\n",
      "    * Mention challenges related to data privacy and security.\n",
      "* **D. Increasing Investments:**\n",
      "    * Analyze the influx of domestic and foreign investments in Indian AI startups and companies.\n",
      "    * Mention examples of successful AI ventures and their impact.\n",
      "    * Discuss the role of venture capital and private equity in fueling AI growth.\n",
      "\n",
      "**III. Key Applications of AI in India (approx. 300 words)**\n",
      "\n",
      "* **A. Agriculture:**\n",
      "    * Discuss the use of AI for precision farming, crop monitoring, and yield prediction.\n",
      "    * Mention specific examples of AI-powered solutions in the agricultural sector.\n",
      "* **B. Healthcare:**\n",
      "    * Describe the application of AI in disease diagnosis, drug discovery, and personalized medicine.\n",
      "    * Highlight AI's role in improving access to healthcare in rural areas.\n",
      "* **C. Finance:**\n",
      "    * Discuss the use of AI in fraud detection, risk management, and algorithmic trading.\n",
      "    * Mention the impact of AI on financial inclusion.\n",
      "* **D. Other sectors (choose 1-2 relevant sectors):**\n",
      "    * Examples: Transportation (autonomous vehicles), education (personalized learning), customer service (chatbots), etc.\n",
      "    * Provide specific examples and impact in the chosen sector(s).\n",
      "\n",
      "\n",
      "**IV. Challenges and Concerns (approx. 200 words)**\n",
      "\n",
      "* **A. Ethical Considerations:**\n",
      "    * Discuss concerns about bias in AI algorithms, job displacement, and data privacy.\n",
      "    * Mention the need for ethical guidelines and regulations for AI development.\n",
      "* **B. Infrastructure Gaps:**\n",
      "    * Highlight challenges related to internet access, computational power, and digital literacy.\n",
      "    * Discuss the need for investments in infrastructure to support widespread AI adoption.\n",
      "* **C. Skills Gap:**\n",
      "    * Discuss the need for upskilling and reskilling initiatives to address the growing demand for AI professionals.\n",
      "* **D. Regulatory Landscape:**\n",
      "    * Discuss the need for clear and comprehensive regulations to govern the development and deployment of AI.\n",
      "\n",
      "\n",
      "**V. Future Outlook and Conclusion (approx. 150 words)**\n",
      "\n",
      "* **Summarize the key findings of the blog.**\n",
      "* **Project the future trajectory of AI in India.**\n",
      "* **Discuss potential opportunities and challenges for the future.**\n",
      "* **Concluding statement:** Offer a powerful statement reiterating the significance of AI's rise in India and its potential to transform the nation.\n",
      "\n",
      "**VI. Call to Action (approx. 50 words)**\n",
      "\n",
      "* Encourage readers to share their thoughts and opinions on the topic.\n",
      "* Promote engagement through comments, social media sharing, or further reading.\n",
      "\n",
      "\n",
      "**VII.  Supporting Visuals:**  Include relevant images, graphs, and charts throughout the blog to enhance readability and engagement.  Consider using infographics to visually represent data on investments, talent pool growth, or AI applications.\n",
      "\n",
      "\n",
      "This detailed outline provides a comprehensive structure for your blog. Remember to use clear and concise language, cite your sources, and maintain a consistent tone throughout.  Focus on making the information accessible to a broad audience, even those without a deep technical understanding of AI.\n",
      "\n"
     ]
    }
   ],
   "source": [
    "print(final_state['outline'])"
   ]
  },
  {
   "cell_type": "code",
   "execution_count": 26,
   "id": "f998b0af",
   "metadata": {},
   "outputs": [
    {
     "name": "stdout",
     "output_type": "stream",
     "text": [
      "## The Rise of AI in India - A Technological Tide\n",
      "\n",
      "**I. Introduction**\n",
      "\n",
      "India's burgeoning tech scene is experiencing a dramatic surge, fueled by a powerful current: Artificial Intelligence.  Recent reports indicate a staggering $7.8 billion investment in Indian AI startups in 2022 alone, showcasing the undeniable momentum.  But what exactly *is* AI?  Simply put, Artificial Intelligence involves creating computer systems capable of performing tasks that typically require human intelligence, such as learning, problem-solving, and decision-making. This blog argues that AI is rapidly transforming India, driven by government initiatives, a burgeoning talent pool, abundant data, and significant investments. We'll explore its key applications across various sectors, examine associated challenges, and project its future trajectory in the Indian context.\n",
      "\n",
      "**II. Drivers of AI Growth in India**\n",
      "\n",
      "Several key factors are propelling India's AI revolution.  Firstly, the Indian government has actively championed AI through initiatives like the National AI Strategy, aiming to position India as a global AI leader.  The Digital India program, focused on digital literacy and infrastructure, further strengthens this foundation.  Significant funding is being allocated to research and development, fostering innovation within the AI sector.  Simultaneously, regulatory frameworks are slowly emerging to navigate the ethical and practical implications of AI deployment.\n",
      "\n",
      "Secondly, India boasts a rapidly expanding pool of skilled AI professionals.  Top-tier engineering colleges and universities are churning out graduates specializing in data science, machine learning, and AI, while numerous bootcamps and online courses cater to the rising demand for skilled professionals. This readily available talent is a crucial ingredient in the nation’s AI recipe.\n",
      "\n",
      "Thirdly, India's massive population generates an unparalleled amount of data – a crucial fuel for AI.  This data, encompassing everything from mobile usage to financial transactions, offers immense potential for training and improving AI models.  However, this abundance also presents challenges related to data privacy and security, requiring robust regulatory measures.\n",
      "\n",
      "Finally, substantial investments, both domestic and foreign, are flooding the Indian AI landscape.  Venture capitalists and private equity firms are actively funding promising AI startups, leading to the emergence of successful ventures impacting various sectors.  This financial injection is crucial for sustaining the momentum of AI growth in India.\n",
      "\n",
      "\n",
      "**III. Key Applications of AI in India**\n",
      "\n",
      "AI is permeating various sectors of the Indian economy, revolutionizing existing practices and creating new opportunities.\n",
      "\n",
      "**A. Agriculture:**  AI is transforming agriculture through precision farming techniques.  AI-powered drones and sensors monitor crop health, identify disease outbreaks, and optimize irrigation, leading to improved yields and reduced resource waste.  Companies are developing AI-driven solutions for predicting crop yields based on weather patterns and soil conditions.\n",
      "\n",
      "**B. Healthcare:** AI is revolutionizing healthcare delivery in India.  AI algorithms are being used for early disease diagnosis, particularly in areas with limited access to specialists.  AI is also assisting in drug discovery and personalized medicine, tailoring treatments to individual patient needs.  Telemedicine platforms, powered by AI-driven chatbots, are expanding access to healthcare in rural and underserved regions.\n",
      "\n",
      "**C. Finance:** The financial sector is leveraging AI for fraud detection, risk assessment, and algorithmic trading.  AI-powered systems analyze vast datasets to identify suspicious transactions and minimize financial losses.  AI is also contributing to financial inclusion by enabling access to credit and other financial services for underserved populations.\n",
      "\n",
      "**D. Customer Service:** AI-powered chatbots are transforming customer service interactions across various industries.  These chatbots provide instant support, answer frequently asked questions, and resolve simple issues, freeing up human agents to handle more complex tasks. This results in increased efficiency and improved customer satisfaction.\n",
      "\n",
      "\n",
      "**IV. Challenges and Concerns**\n",
      "\n",
      "Despite the impressive progress, several challenges hinder the full potential of AI in India.\n",
      "\n",
      "**A. Ethical Considerations:**  Bias in AI algorithms, job displacement due to automation, and concerns over data privacy are significant ethical considerations.  Establishing robust ethical guidelines and regulatory frameworks is crucial to mitigate these risks and ensure responsible AI development.\n",
      "\n",
      "**B. Infrastructure Gaps:**  Uneven internet access, limited computational power in certain regions, and a digital literacy gap pose significant challenges.  Investment in robust digital infrastructure is vital for widespread AI adoption.\n",
      "\n",
      "**C. Skills Gap:** The demand for skilled AI professionals far outpaces the current supply.  Addressing this skills gap requires substantial investment in education and training programs to upskill and reskill the workforce.\n",
      "\n",
      "**D. Regulatory Landscape:** A clear and comprehensive regulatory landscape is essential to guide AI development and deployment responsibly.  This includes addressing issues of data privacy, algorithmic transparency, and accountability.\n",
      "\n",
      "\n",
      "**V. Future Outlook and Conclusion**\n",
      "\n",
      "India's AI journey is still in its early stages, yet its potential is immense.  Continued investment in research and development, infrastructure, and education will be crucial for realizing this potential.  While challenges related to ethics, infrastructure, and skills need to be addressed proactively, the future trajectory points towards a significant transformation of various sectors.  India's unique strengths—a large talent pool, abundant data, and government support—position it to become a global AI leader.  The rise of AI in India is not merely a technological advancement; it's a transformative force with the potential to reshape the nation's economy and society for the better.\n",
      "\n",
      "\n",
      "**VI. Call to Action**\n",
      "\n",
      "What are your thoughts on the rise of AI in India? Share your opinions and insights in the comments below!  Let's discuss the opportunities and challenges together.  Join the conversation on social media using #AIinIndia.\n",
      "\n",
      "\n",
      "**(Include relevant images, graphs, and charts throughout the blog to enhance readability and engagement.)**\n",
      "\n"
     ]
    }
   ],
   "source": [
    "print(final_state['content'])"
   ]
  },
  {
   "cell_type": "code",
   "execution_count": null,
   "id": "c4064900",
   "metadata": {},
   "outputs": [],
   "source": []
  }
 ],
 "metadata": {
  "kernelspec": {
   "display_name": "myenv",
   "language": "python",
   "name": "python3"
  },
  "language_info": {
   "codemirror_mode": {
    "name": "ipython",
    "version": 3
   },
   "file_extension": ".py",
   "mimetype": "text/x-python",
   "name": "python",
   "nbconvert_exporter": "python",
   "pygments_lexer": "ipython3",
   "version": "3.12.4"
  }
 },
 "nbformat": 4,
 "nbformat_minor": 5
}
