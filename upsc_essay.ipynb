{
 "cells": [
  {
   "cell_type": "code",
   "execution_count": 1,
   "id": "eb5a093b",
   "metadata": {},
   "outputs": [
    {
     "name": "stderr",
     "output_type": "stream",
     "text": [
      "c:\\Users\\bhard\\OneDrive\\Desktop\\sequenceworkflow\\SequenceWorkflow\\myenv\\Lib\\site-packages\\tqdm\\auto.py:21: TqdmWarning: IProgress not found. Please update jupyter and ipywidgets. See https://ipywidgets.readthedocs.io/en/stable/user_install.html\n",
      "  from .autonotebook import tqdm as notebook_tqdm\n"
     ]
    }
   ],
   "source": [
    "from langgraph.graph import StateGraph, START, END\n",
    "from typing import TypedDict\n",
    "from dotenv import load_dotenv\n",
    "import google.generativeai as genai "
   ]
  },
  {
   "cell_type": "code",
   "execution_count": 2,
   "id": "78ebce58",
   "metadata": {},
   "outputs": [],
   "source": [
    "load_dotenv()\n",
    "model=genai.GenerativeModel('gemini-1.5-flash-latest')\n",
    "import os\n",
    "genai.configure(api_key=os.getenv(\"API_KEY\"))"
   ]
  },
  {
   "cell_type": "code",
   "execution_count": 3,
   "id": "2db31e2b",
   "metadata": {},
   "outputs": [],
   "source": [
    "from pydantic import BaseModel,Field\n",
    "import operator"
   ]
  },
  {
   "cell_type": "code",
   "execution_count": 4,
   "id": "d8be18ac",
   "metadata": {},
   "outputs": [],
   "source": [
    "class EvaluationSchema(BaseModel):\n",
    "    feedback: str = Field(description='Detailed feedback for the essay')\n",
    "    score:int= Field(description='Score out of 10',ge=0, le=10)"
   ]
  },
  {
   "cell_type": "code",
   "execution_count": null,
   "id": "d80701d9",
   "metadata": {},
   "outputs": [
    {
     "ename": "NameError",
     "evalue": "name 'structured_model' is not defined",
     "output_type": "error",
     "traceback": [
      "\u001b[31m---------------------------------------------------------------------------\u001b[39m",
      "\u001b[31mNameError\u001b[39m                                 Traceback (most recent call last)",
      "\u001b[36mCell\u001b[39m\u001b[36m \u001b[39m\u001b[32mIn[7]\u001b[39m\u001b[32m, line 4\u001b[39m\n\u001b[32m      1\u001b[39m prompt = \u001b[33m\"\u001b[39m\u001b[33mEvaluate the following essay and provide feedback and a score out of 10.\u001b[39m\u001b[33m\"\u001b[39m\n\u001b[32m      3\u001b[39m \u001b[38;5;66;03m# Use the structured model\u001b[39;00m\n\u001b[32m----> \u001b[39m\u001b[32m4\u001b[39m structured_output = \u001b[43mstructured_model\u001b[49m.invoke(prompt)\n\u001b[32m      6\u001b[39m \u001b[38;5;28mprint\u001b[39m(\u001b[33m\"\u001b[39m\u001b[33mFeedback:\u001b[39m\u001b[33m\"\u001b[39m, structured_output.feedback)\n\u001b[32m      7\u001b[39m \u001b[38;5;28mprint\u001b[39m(\u001b[33m\"\u001b[39m\u001b[33mScore:\u001b[39m\u001b[33m\"\u001b[39m, structured_output.score)\n",
      "\u001b[31mNameError\u001b[39m: name 'structured_model' is not defined"
     ]
    }
   ],
   "source": [
    "prompt = \"Evaluate the following essay and provide feedback and a score out of 10.\"\n",
    "\n",
    "# Use the structured model\n",
    "#structured_output = structured_model.invoke(prompt)\n",
    "# Force JSON output using schema\n",
    "response = model.generate_content(\n",
    "    f\"Evaluate the following essay:\\n\\n{prompt}\",\n",
    "    generation_config=genai.types.GenerationConfig(\n",
    "        response_mime_type=\"application/json\",\n",
    "        response_schema=EvaluationSchema.model_json_schema()\n",
    "    )\n",
    ")\n",
    "# Parse JSON into Pydantic object\n",
    "structured_output = EvaluationSchema.model_validate_json(response.text)\n",
    "\n",
    "\n",
    "print(\"Feedback:\", structured_output.feedback)\n",
    "print(\"Score:\", structured_output.score)\n"
   ]
  },
  {
   "cell_type": "code",
   "execution_count": null,
   "id": "a74571ac",
   "metadata": {},
   "outputs": [],
   "source": []
  }
 ],
 "metadata": {
  "kernelspec": {
   "display_name": "myenv",
   "language": "python",
   "name": "python3"
  },
  "language_info": {
   "codemirror_mode": {
    "name": "ipython",
    "version": 3
   },
   "file_extension": ".py",
   "mimetype": "text/x-python",
   "name": "python",
   "nbconvert_exporter": "python",
   "pygments_lexer": "ipython3",
   "version": "3.12.4"
  }
 },
 "nbformat": 4,
 "nbformat_minor": 5
}
